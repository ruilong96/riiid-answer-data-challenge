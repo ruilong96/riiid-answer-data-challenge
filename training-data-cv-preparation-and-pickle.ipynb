{
 "cells": [
  {
   "cell_type": "code",
   "execution_count": 1,
   "metadata": {
    "_cell_guid": "b1076dfc-b9ad-4769-8c92-a6c4dae69d19",
    "_uuid": "8f2839f25d086af736a60e9eeb907d3b93b6e0e5"
   },
   "outputs": [
    {
     "ename": "ModuleNotFoundError",
     "evalue": "No module named 'datatable'",
     "output_type": "error",
     "traceback": [
      "\u001b[1;31m---------------------------------------------------------------------------\u001b[0m",
      "\u001b[1;31mModuleNotFoundError\u001b[0m                       Traceback (most recent call last)",
      "\u001b[1;32m<ipython-input-1-14c983564393>\u001b[0m in \u001b[0;36m<module>\u001b[1;34m\u001b[0m\n\u001b[0;32m      2\u001b[0m \u001b[1;32mimport\u001b[0m \u001b[0mrandom\u001b[0m\u001b[1;33m\u001b[0m\u001b[1;33m\u001b[0m\u001b[0m\n\u001b[0;32m      3\u001b[0m \u001b[1;32mimport\u001b[0m \u001b[0mgc\u001b[0m\u001b[1;33m\u001b[0m\u001b[1;33m\u001b[0m\u001b[0m\n\u001b[1;32m----> 4\u001b[1;33m \u001b[1;32mimport\u001b[0m \u001b[0mdatatable\u001b[0m\u001b[1;33m\u001b[0m\u001b[1;33m\u001b[0m\u001b[0m\n\u001b[0m",
      "\u001b[1;31mModuleNotFoundError\u001b[0m: No module named 'datatable'"
     ]
    }
   ],
   "source": [
    "import pandas as pd\n",
    "import random\n",
    "import gc\n",
    "import datatable"
   ]
  },
  {
   "cell_type": "code",
   "execution_count": 2,
   "metadata": {
    "_cell_guid": "79c7e3d0-c299-4dcb-8224-4455121ee9b0",
    "_uuid": "d629ff2d2480ee46fbb7e2d37f6b5fab8052498a"
   },
   "outputs": [],
   "source": [
    "random.seed(1)"
   ]
  },
  {
   "cell_type": "code",
   "execution_count": 3,
   "metadata": {},
   "outputs": [],
   "source": [
    "train = pd.read_csv('./input/riiid-test-answer-prediction/train.csv',\n",
    "                   dtype={'row_id': 'int64',\n",
    "                          'timestamp': 'int64',\n",
    "                          'user_id': 'int32',\n",
    "                          'content_id': 'int16',\n",
    "                          'content_type_id': 'int8',\n",
    "                          'task_container_id': 'int16',\n",
    "                          'user_answer': 'int8',\n",
    "                          'answered_correctly':'int8',\n",
    "                          'prior_question_elapsed_time': 'float32',\n",
    "                          'prior_question_had_explanation': 'boolean'}\n",
    "                   )"
   ]
  },
  {
   "cell_type": "markdown",
   "metadata": {},
   "source": [
    "Use the last several entry for each user as validation set sorted by timestamp. Spliting may focus on light users more."
   ]
  },
  {
   "cell_type": "code",
   "execution_count": 4,
   "metadata": {},
   "outputs": [
    {
     "name": "stdout",
     "output_type": "stream",
     "text": [
      "0.66  0.541\n"
     ]
    }
   ],
   "source": [
    "valid_split1 = train.groupby('user_id').tail(5)\n",
    "train_split1 = train[~train.row_id.isin(valid_split1.row_id)]\n",
    "valid_split = valid_split1[valid_split1.content_type_id == 0]\n",
    "train_split = train_split1[train_split1.content_type_id == 0]\n",
    "valid_split_w_lecture = valid_split1[valid_split1.content_type_id == 1]\n",
    "train_split_w_lecture = train_split1[train_split1.content_type_id == 1]\n",
    "print(\"{:.3}  {:.3}\".format(train_split.answered_correctly.mean(), valid_split.answered_correctly.mean()))"
   ]
  },
  {
   "cell_type": "markdown",
   "metadata": {},
   "source": [
    "Since training data and test data are split by time, the validation data should also be split by time. However, the given timestamp is the time that has elapsed since the user's first event, not the actual time, so I set a random first access time for each user within a certain interval."
   ]
  },
  {
   "cell_type": "code",
   "execution_count": 5,
   "metadata": {},
   "outputs": [],
   "source": [
    "max_timestamp_u = train[['user_id','timestamp']].groupby(['user_id']).agg(['max']).reset_index()\n",
    "max_timestamp_u.columns = ['user_id', 'max_time_stamp']\n",
    "MAX_TIME_STAMP = max_timestamp_u.max_time_stamp.max()\n",
    "\n",
    "def rand_time(max_time_stamp):\n",
    "    interval = MAX_TIME_STAMP - max_time_stamp\n",
    "    rand_time_stamp = random.randint(0,interval)\n",
    "    return rand_time_stamp\n",
    "\n",
    "max_timestamp_u['rand_time_stamp'] = max_timestamp_u.max_time_stamp.apply(rand_time)\n",
    "train = train.merge(max_timestamp_u, on='user_id', how='left')\n",
    "train['virtual_time_stamp'] = train.timestamp + train['rand_time_stamp']"
   ]
  },
  {
   "cell_type": "code",
   "execution_count": 6,
   "metadata": {},
   "outputs": [
    {
     "data": {
      "text/html": [
       "<div>\n",
       "<style scoped>\n",
       "    .dataframe tbody tr th:only-of-type {\n",
       "        vertical-align: middle;\n",
       "    }\n",
       "\n",
       "    .dataframe tbody tr th {\n",
       "        vertical-align: top;\n",
       "    }\n",
       "\n",
       "    .dataframe thead th {\n",
       "        text-align: right;\n",
       "    }\n",
       "</style>\n",
       "<table border=\"1\" class=\"dataframe\">\n",
       "  <thead>\n",
       "    <tr style=\"text-align: right;\">\n",
       "      <th></th>\n",
       "      <th>user_id</th>\n",
       "      <th>max_time_stamp</th>\n",
       "      <th>rand_time_stamp</th>\n",
       "    </tr>\n",
       "  </thead>\n",
       "  <tbody>\n",
       "    <tr>\n",
       "      <th>0</th>\n",
       "      <td>115</td>\n",
       "      <td>668090043</td>\n",
       "      <td>77886501365</td>\n",
       "    </tr>\n",
       "    <tr>\n",
       "      <th>1</th>\n",
       "      <td>124</td>\n",
       "      <td>571323</td>\n",
       "      <td>11870321604</td>\n",
       "    </tr>\n",
       "    <tr>\n",
       "      <th>2</th>\n",
       "      <td>2746</td>\n",
       "      <td>835457</td>\n",
       "      <td>13980415036</td>\n",
       "    </tr>\n",
       "    <tr>\n",
       "      <th>3</th>\n",
       "      <td>5382</td>\n",
       "      <td>2101551456</td>\n",
       "      <td>66355058851</td>\n",
       "    </tr>\n",
       "    <tr>\n",
       "      <th>4</th>\n",
       "      <td>8623</td>\n",
       "      <td>862338736</td>\n",
       "      <td>54338178075</td>\n",
       "    </tr>\n",
       "    <tr>\n",
       "      <th>...</th>\n",
       "      <td>...</td>\n",
       "      <td>...</td>\n",
       "      <td>...</td>\n",
       "    </tr>\n",
       "    <tr>\n",
       "      <th>393651</th>\n",
       "      <td>2147470770</td>\n",
       "      <td>2832089444</td>\n",
       "      <td>43282978945</td>\n",
       "    </tr>\n",
       "    <tr>\n",
       "      <th>393652</th>\n",
       "      <td>2147470777</td>\n",
       "      <td>13332685203</td>\n",
       "      <td>69123704590</td>\n",
       "    </tr>\n",
       "    <tr>\n",
       "      <th>393653</th>\n",
       "      <td>2147481750</td>\n",
       "      <td>55954768</td>\n",
       "      <td>45075041930</td>\n",
       "    </tr>\n",
       "    <tr>\n",
       "      <th>393654</th>\n",
       "      <td>2147482216</td>\n",
       "      <td>1470594073</td>\n",
       "      <td>80935632229</td>\n",
       "    </tr>\n",
       "    <tr>\n",
       "      <th>393655</th>\n",
       "      <td>2147482888</td>\n",
       "      <td>428692118</td>\n",
       "      <td>39414081415</td>\n",
       "    </tr>\n",
       "  </tbody>\n",
       "</table>\n",
       "<p>393656 rows × 3 columns</p>\n",
       "</div>"
      ],
      "text/plain": [
       "           user_id  max_time_stamp  rand_time_stamp\n",
       "0              115       668090043      77886501365\n",
       "1              124          571323      11870321604\n",
       "2             2746          835457      13980415036\n",
       "3             5382      2101551456      66355058851\n",
       "4             8623       862338736      54338178075\n",
       "...            ...             ...              ...\n",
       "393651  2147470770      2832089444      43282978945\n",
       "393652  2147470777     13332685203      69123704590\n",
       "393653  2147481750        55954768      45075041930\n",
       "393654  2147482216      1470594073      80935632229\n",
       "393655  2147482888       428692118      39414081415\n",
       "\n",
       "[393656 rows x 3 columns]"
      ]
     },
     "execution_count": 6,
     "metadata": {},
     "output_type": "execute_result"
    }
   ],
   "source": [
    "max_timestamp_u"
   ]
  },
  {
   "cell_type": "code",
   "execution_count": 7,
   "metadata": {},
   "outputs": [],
   "source": [
    "train = train.sort_values(['virtual_time_stamp', 'row_id']).reset_index(drop=True)"
   ]
  },
  {
   "cell_type": "code",
   "execution_count": 8,
   "metadata": {},
   "outputs": [
    {
     "name": "stdout",
     "output_type": "stream",
     "text": [
      "cv0 0.658 0.642 15119 0\n",
      "cv1 0.658 0.651 11198 0\n",
      "cv2 0.658 0.647 10159 0\n",
      "cv3 0.658 0.651 9687 3\n",
      "cv4 0.658 0.655 9184 0\n"
     ]
    }
   ],
   "source": [
    "val_size = 2500000\n",
    "\n",
    "for cv in range(5):\n",
    "    valid = train[-val_size:]\n",
    "    train = train[:-val_size]\n",
    "    # check new users and new contents\n",
    "    new_users = len(valid[~valid.user_id.isin(train.user_id)].user_id.unique())\n",
    "    valid_question = valid[valid.content_type_id == 0]\n",
    "    train_question = train[train.content_type_id == 0]\n",
    "    new_contents = len(valid_question[~valid_question.content_id.isin(train_question.content_id)].content_id.unique())    \n",
    "    print(f'cv{cv} {train_question.answered_correctly.mean():.3f} {valid_question.answered_correctly.mean():.3f} {new_users} {new_contents}')\n",
    "    valid.to_pickle(f'cv{cv+1}_valid.pickle')\n",
    "    train.to_pickle(f'cv{cv+1}_train.pickle')"
   ]
  },
  {
   "cell_type": "code",
   "execution_count": null,
   "metadata": {},
   "outputs": [],
   "source": []
  }
 ],
 "metadata": {
  "kernelspec": {
   "display_name": "Python 3",
   "language": "python",
   "name": "python3"
  },
  "language_info": {
   "codemirror_mode": {
    "name": "ipython",
    "version": 3
   },
   "file_extension": ".py",
   "mimetype": "text/x-python",
   "name": "python",
   "nbconvert_exporter": "python",
   "pygments_lexer": "ipython3",
   "version": "3.8.5"
  }
 },
 "nbformat": 4,
 "nbformat_minor": 4
}
