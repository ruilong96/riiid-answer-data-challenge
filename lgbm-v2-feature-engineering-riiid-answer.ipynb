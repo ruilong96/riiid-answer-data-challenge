{
 "cells": [
  {
   "cell_type": "code",
   "execution_count": 1,
   "metadata": {
    "execution": {
     "iopub.execute_input": "2020-11-15T03:57:30.963520Z",
     "iopub.status.busy": "2020-11-15T03:57:30.962745Z",
     "iopub.status.idle": "2020-11-15T03:57:33.038442Z",
     "shell.execute_reply": "2020-11-15T03:57:33.037618Z"
    },
    "papermill": {
     "duration": 2.099936,
     "end_time": "2020-11-15T03:57:33.038584",
     "exception": false,
     "start_time": "2020-11-15T03:57:30.938648",
     "status": "completed"
    },
    "tags": []
   },
   "outputs": [],
   "source": [
    "import pandas as pd\n",
    "import numpy as np\n",
    "import gc\n",
    "from sklearn.metrics import roc_auc_score\n",
    "from collections import defaultdict\n",
    "from tqdm.notebook import tqdm\n",
    "import lightgbm as lgb\n",
    "import pickle\n",
    "\n",
    "import optuna\n",
    "from optuna.samplers import TPESampler"
   ]
  },
  {
   "cell_type": "code",
   "execution_count": 2,
   "metadata": {
    "execution": {
     "iopub.execute_input": "2020-11-15T03:57:33.073239Z",
     "iopub.status.busy": "2020-11-15T03:57:33.072212Z",
     "iopub.status.idle": "2020-11-15T03:57:33.075933Z",
     "shell.execute_reply": "2020-11-15T03:57:33.075181Z"
    },
    "papermill": {
     "duration": 0.022914,
     "end_time": "2020-11-15T03:57:33.076056",
     "exception": false,
     "start_time": "2020-11-15T03:57:33.053142",
     "status": "completed"
    },
    "tags": []
   },
   "outputs": [],
   "source": [
    "train_pickle = '../input/riiid-cross-validation-files/cv1_train.pickle'\n",
    "valid_pickle = '../input/riiid-cross-validation-files/cv1_valid.pickle'\n",
    "question_file = '../input/riiid-test-answer-prediction/questions.csv'\n",
    "debug = False\n",
    "validaten_flg = False\n",
    "kaggle = True"
   ]
  },
  {
   "cell_type": "code",
   "execution_count": 3,
   "metadata": {
    "execution": {
     "iopub.execute_input": "2020-11-15T03:57:33.116809Z",
     "iopub.status.busy": "2020-11-15T03:57:33.115736Z",
     "iopub.status.idle": "2020-11-15T03:57:33.119711Z",
     "shell.execute_reply": "2020-11-15T03:57:33.118925Z"
    },
    "papermill": {
     "duration": 0.030026,
     "end_time": "2020-11-15T03:57:33.119855",
     "exception": false,
     "start_time": "2020-11-15T03:57:33.089829",
     "status": "completed"
    },
    "tags": []
   },
   "outputs": [],
   "source": [
    "def add_user_features(df, answer_sum_dict, answer_count_dict):\n",
    "    answer_sum_series = np.zeros(len(df), dtype=np.int32)\n",
    "    count_series = np.zeros(len(df), dtype=np.int32)\n",
    "    \n",
    "    for row_idx, item in enumerate(tqdm(df[['user_id', 'answered_correctly']].values)):\n",
    "        answer_sum_series[row_idx] = answer_sum_dict[item[0]]\n",
    "        count_series[row_idx] = answer_count_dict[item[0]]\n",
    "         \n",
    "        answer_sum_dict[item[0]] += item[1]\n",
    "        answer_count_dict[item[0]] += 1\n",
    "        \n",
    "    user_features_df = pd.DataFrame({'answer_sum': answer_sum_series, \n",
    "                                     'answer_count': count_series})\n",
    "    user_features_df['answer_c_avg'] = user_features_df['answer_sum'] / user_features_df['answer_count']\n",
    "    df = pd.concat([df, user_features_df], axis=1)\n",
    "    \n",
    "    return df"
   ]
  },
  {
   "cell_type": "code",
   "execution_count": 4,
   "metadata": {
    "execution": {
     "iopub.execute_input": "2020-11-15T03:57:33.158946Z",
     "iopub.status.busy": "2020-11-15T03:57:33.156776Z",
     "iopub.status.idle": "2020-11-15T03:57:33.162346Z",
     "shell.execute_reply": "2020-11-15T03:57:33.161672Z"
    },
    "papermill": {
     "duration": 0.028588,
     "end_time": "2020-11-15T03:57:33.162485",
     "exception": false,
     "start_time": "2020-11-15T03:57:33.133897",
     "status": "completed"
    },
    "tags": []
   },
   "outputs": [],
   "source": [
    "def add_user_features_ignore_update(df, answer_sum_dict, answer_count_dict):\n",
    "    answer_sum_series = np.zeros(len(df), dtype=np.int32)\n",
    "    count_series = np.zeros(len(df), dtype=np.int32)\n",
    "    \n",
    "    for row_idx, item in enumerate(df[['user_id']].values):\n",
    "        answer_sum_series[row_idx] = answer_sum_dict[item[0]]\n",
    "        count_series[row_idx] = answer_count_dict[item[0]]\n",
    "        \n",
    "    user_features_df = pd.DataFrame({'answer_sum': answer_sum_series, \n",
    "                                     'answer_count': count_series})\n",
    "    user_features_df['answer_c_avg'] = user_features_df['answer_sum'] / user_features_df['answer_count']\n",
    "    df = pd.concat([df, user_features_df], axis=1)\n",
    "    \n",
    "    return df"
   ]
  },
  {
   "cell_type": "code",
   "execution_count": 5,
   "metadata": {
    "execution": {
     "iopub.execute_input": "2020-11-15T03:57:33.199301Z",
     "iopub.status.busy": "2020-11-15T03:57:33.198488Z",
     "iopub.status.idle": "2020-11-15T03:57:33.202146Z",
     "shell.execute_reply": "2020-11-15T03:57:33.201526Z"
    },
    "papermill": {
     "duration": 0.025594,
     "end_time": "2020-11-15T03:57:33.202305",
     "exception": false,
     "start_time": "2020-11-15T03:57:33.176711",
     "status": "completed"
    },
    "tags": []
   },
   "outputs": [],
   "source": [
    "def update_user_features(df, answer_sum_dict, answer_count_dict):\n",
    "    for row in df.loc[df['content_type_id'] == 0, ['user_id', 'answered_correctly']].values:\n",
    "        answer_sum_dict[row[0]] += row[1]\n",
    "        answer_count_dict[row[0]] += 1"
   ]
  },
  {
   "cell_type": "code",
   "execution_count": 6,
   "metadata": {
    "execution": {
     "iopub.execute_input": "2020-11-15T03:57:33.251695Z",
     "iopub.status.busy": "2020-11-15T03:57:33.250875Z",
     "iopub.status.idle": "2020-11-15T04:00:47.927805Z",
     "shell.execute_reply": "2020-11-15T04:00:47.926864Z"
    },
    "papermill": {
     "duration": 194.711543,
     "end_time": "2020-11-15T04:00:47.928000",
     "exception": false,
     "start_time": "2020-11-15T03:57:33.216457",
     "status": "completed"
    },
    "tags": []
   },
   "outputs": [
    {
     "data": {
      "application/vnd.jupyter.widget-view+json": {
       "model_id": "f2b995f89b4042978328abb39de61079",
       "version_major": 2,
       "version_minor": 0
      },
      "text/plain": [
       "HBox(children=(FloatProgress(value=0.0, max=29404440.0), HTML(value='')))"
      ]
     },
     "metadata": {},
     "output_type": "display_data"
    },
    {
     "name": "stdout",
     "output_type": "stream",
     "text": [
      "\n"
     ]
    },
    {
     "data": {
      "application/vnd.jupyter.widget-view+json": {
       "model_id": "5ed7dc621f004f7981f74ab097c705a4",
       "version_major": 2,
       "version_minor": 0
      },
      "text/plain": [
       "HBox(children=(FloatProgress(value=0.0, max=2453886.0), HTML(value='')))"
      ]
     },
     "metadata": {},
     "output_type": "display_data"
    },
    {
     "name": "stdout",
     "output_type": "stream",
     "text": [
      "\n"
     ]
    }
   ],
   "source": [
    "features = ['row_id', 'user_id', 'content_id', \n",
    "            'content_type_id', 'answered_correctly', \n",
    "            'prior_question_elapsed_time', 'prior_question_had_explanation']\n",
    "train = pd.read_pickle(train_pickle)[features]\n",
    "valid = pd.read_pickle(valid_pickle)[features]\n",
    "\n",
    "if debug:\n",
    "    train = train[:1000000]\n",
    "    valid = valid[:10000]\n",
    "if kaggle:\n",
    "    train = train[-30000000:]\n",
    "    \n",
    "train = train.loc[train.content_type_id == 0].reset_index(drop=True)\n",
    "valid = valid.loc[valid.content_type_id == 0].reset_index(drop=True)\n",
    "\n",
    "# content aggregate stat\n",
    "content_agg = train[['content_id', 'answered_correctly']].groupby('content_id').agg(['sum', 'count', 'mean']).reset_index()\n",
    "content_agg.columns = ['content_id', 'ac_content_sum', 'ac_content_count', 'ac_content_avg']\n",
    "\n",
    "train = pd.merge(train, content_agg, on=['content_id'], how=\"left\")\n",
    "valid = pd.merge(valid, content_agg, on=['content_id'], how=\"left\")\n",
    "\n",
    "# user feature engineering with loops\n",
    "answer_user_sum_dict = defaultdict(int)\n",
    "answer_user_count_dict = defaultdict(int)\n",
    "train = add_user_features(train, answer_user_sum_dict, answer_user_count_dict)\n",
    "valid = add_user_features(valid, answer_user_sum_dict, answer_user_count_dict)\n",
    "\n",
    "# fillna for prior_question_elapsed_time_mean\n",
    "prior_question_elapsed_time_mean = train.prior_question_elapsed_time.dropna().values.mean()\n",
    "train.prior_question_elapsed_time.fillna(prior_question_elapsed_time_mean, inplace=True)\n",
    "valid.prior_question_elapsed_time.fillna(prior_question_elapsed_time_mean, inplace=True)\n",
    "\n",
    "# part\n",
    "questions_df = pd.read_csv(question_file)\n",
    "train = pd.merge(train, questions_df[['question_id', 'part']], left_on = 'content_id', right_on = 'question_id', how = 'left')\n",
    "valid = pd.merge(valid, questions_df[['question_id', 'part']], left_on = 'content_id', right_on = 'question_id', how = 'left')\n",
    "\n",
    "# changing dtype to avoid lightgbm error\n",
    "train['prior_question_had_explanation'] = train.prior_question_had_explanation.fillna(False).astype('int8')\n",
    "valid['prior_question_had_explanation'] = valid.prior_question_had_explanation.fillna(False).astype('int8')"
   ]
  },
  {
   "cell_type": "code",
   "execution_count": 7,
   "metadata": {
    "execution": {
     "iopub.execute_input": "2020-11-15T04:00:47.971964Z",
     "iopub.status.busy": "2020-11-15T04:00:47.971119Z",
     "iopub.status.idle": "2020-11-15T04:00:50.461996Z",
     "shell.execute_reply": "2020-11-15T04:00:50.461364Z"
    },
    "papermill": {
     "duration": 2.517326,
     "end_time": "2020-11-15T04:00:50.462134",
     "exception": false,
     "start_time": "2020-11-15T04:00:47.944808",
     "status": "completed"
    },
    "tags": []
   },
   "outputs": [],
   "source": [
    "target = 'answered_correctly'\n",
    "Features = ['ac_content_sum', 'ac_content_count', 'ac_content_avg',\n",
    "           'answer_c_avg', 'answer_count', 'answer_sum', 'part', \n",
    "            'prior_question_had_explanation', 'prior_question_elapsed_time']\n",
    "drop_cols = list(set(train.columns) - set(Features))\n",
    "y_tr = train[target]\n",
    "y_va = valid[target]\n",
    "\n",
    "train.drop(drop_cols, axis=1, inplace=True)\n",
    "valid.drop(drop_cols, axis=1, inplace=True)\n",
    "_=gc.collect()"
   ]
  },
  {
   "cell_type": "code",
   "execution_count": 8,
   "metadata": {
    "execution": {
     "iopub.execute_input": "2020-11-15T04:00:50.894293Z",
     "iopub.status.busy": "2020-11-15T04:00:50.737438Z",
     "iopub.status.idle": "2020-11-15T04:00:51.385854Z",
     "shell.execute_reply": "2020-11-15T04:00:51.385200Z"
    },
    "papermill": {
     "duration": 0.907127,
     "end_time": "2020-11-15T04:00:51.385999",
     "exception": false,
     "start_time": "2020-11-15T04:00:50.478872",
     "status": "completed"
    },
    "tags": []
   },
   "outputs": [],
   "source": [
    "lgb_train = lgb.Dataset(train[Features], label = y_tr)\n",
    "lgb_valid = lgb.Dataset(valid[Features], label = y_va)\n",
    "del train, y_tr\n",
    "_=gc.collect()"
   ]
  },
  {
   "cell_type": "code",
   "execution_count": 9,
   "metadata": {
    "execution": {
     "iopub.execute_input": "2020-11-15T04:00:51.429820Z",
     "iopub.status.busy": "2020-11-15T04:00:51.428678Z",
     "iopub.status.idle": "2020-11-15T04:00:51.432333Z",
     "shell.execute_reply": "2020-11-15T04:00:51.431701Z"
    },
    "papermill": {
     "duration": 0.028452,
     "end_time": "2020-11-15T04:00:51.432469",
     "exception": false,
     "start_time": "2020-11-15T04:00:51.404017",
     "status": "completed"
    },
    "tags": []
   },
   "outputs": [],
   "source": [
    "params = {\n",
    "    'objective': 'binary',\n",
    "    'seed': 42,\n",
    "    'metric': 'auc',\n",
    "    'learning_rate': 0.05,\n",
    "    'max_bin': 800,\n",
    "    'num_leaves': 80,\n",
    "    'num_iterations': 1000\n",
    "}"
   ]
  },
  {
   "cell_type": "code",
   "execution_count": 10,
   "metadata": {
    "execution": {
     "iopub.execute_input": "2020-11-15T04:00:51.474102Z",
     "iopub.status.busy": "2020-11-15T04:00:51.473225Z",
     "iopub.status.idle": "2020-11-15T06:34:53.680462Z",
     "shell.execute_reply": "2020-11-15T06:34:53.681516Z"
    },
    "papermill": {
     "duration": 9242.231733,
     "end_time": "2020-11-15T06:34:53.682048",
     "exception": false,
     "start_time": "2020-11-15T04:00:51.450315",
     "status": "completed"
    },
    "tags": []
   },
   "outputs": [
    {
     "name": "stderr",
     "output_type": "stream",
     "text": [
      "/opt/conda/lib/python3.7/site-packages/lightgbm/engine.py:148: UserWarning: Found `num_iterations` in params. Will use it instead of argument\n",
      "  warnings.warn(\"Found `{}` in params. Will use it instead of argument\".format(alias))\n"
     ]
    },
    {
     "name": "stdout",
     "output_type": "stream",
     "text": [
      "Training until validation scores don't improve for 10 rounds\n",
      "[100]\ttraining's auc: 0.751809\tvalid_1's auc: 0.756777\n",
      "[200]\ttraining's auc: 0.752561\tvalid_1's auc: 0.757474\n",
      "[300]\ttraining's auc: 0.752874\tvalid_1's auc: 0.757702\n",
      "[400]\ttraining's auc: 0.753123\tvalid_1's auc: 0.757858\n",
      "[500]\ttraining's auc: 0.753376\tvalid_1's auc: 0.757999\n",
      "[600]\ttraining's auc: 0.753564\tvalid_1's auc: 0.758077\n",
      "[700]\ttraining's auc: 0.753733\tvalid_1's auc: 0.758156\n",
      "[800]\ttraining's auc: 0.753895\tvalid_1's auc: 0.758214\n",
      "[900]\ttraining's auc: 0.754055\tvalid_1's auc: 0.758281\n",
      "[1000]\ttraining's auc: 0.754181\tvalid_1's auc: 0.758319\n",
      "Did not meet early stopping. Best iteration is:\n",
      "[1000]\ttraining's auc: 0.754181\tvalid_1's auc: 0.758319\n"
     ]
    }
   ],
   "source": [
    "model = lgb.train(\n",
    "                    params, \n",
    "                    lgb_train,\n",
    "                    valid_sets=[lgb_train, lgb_valid],\n",
    "                    verbose_eval=100,\n",
    "                    num_boost_round=10000,\n",
    "                    early_stopping_rounds=10\n",
    "                )"
   ]
  },
  {
   "cell_type": "code",
   "execution_count": 11,
   "metadata": {
    "execution": {
     "iopub.execute_input": "2020-11-15T06:34:53.745933Z",
     "iopub.status.busy": "2020-11-15T06:34:53.744843Z",
     "iopub.status.idle": "2020-11-15T06:36:12.909538Z",
     "shell.execute_reply": "2020-11-15T06:36:12.908804Z"
    },
    "papermill": {
     "duration": 79.200806,
     "end_time": "2020-11-15T06:36:12.909690",
     "exception": false,
     "start_time": "2020-11-15T06:34:53.708884",
     "status": "completed"
    },
    "tags": []
   },
   "outputs": [
    {
     "name": "stdout",
     "output_type": "stream",
     "text": [
      "auc: 0.7583187798329882\n"
     ]
    },
    {
     "data": {
      "image/png": "[encoded data removed]",
      "text/plain": [
       "<Figure size 432x288 with 1 Axes>"
      ]
     },
     "metadata": {
      "needs_background": "light"
     },
     "output_type": "display_data"
    }
   ],
   "source": [
    "print('auc:', roc_auc_score(y_va, model.predict(valid[Features])))\n",
    "_ = lgb.plot_importance(model)"
   ]
  },
  {
   "cell_type": "code",
   "execution_count": 12,
   "metadata": {
    "execution": {
     "iopub.execute_input": "2020-11-15T06:36:12.979822Z",
     "iopub.status.busy": "2020-11-15T06:36:12.978695Z",
     "iopub.status.idle": "2020-11-15T06:36:13.333662Z",
     "shell.execute_reply": "2020-11-15T06:36:13.333011Z"
    },
    "papermill": {
     "duration": 0.400144,
     "end_time": "2020-11-15T06:36:13.333798",
     "exception": false,
     "start_time": "2020-11-15T06:36:12.933654",
     "status": "completed"
    },
    "tags": []
   },
   "outputs": [
    {
     "ename": "FileNotFoundError",
     "evalue": "[Errno 2] No such file or directory: '/kaggle/output/model.txt'",
     "output_type": "error",
     "traceback": [
      "\u001b[0;31m---------------------------------------------------------------------------\u001b[0m",
      "\u001b[0;31mFileNotFoundError\u001b[0m                         Traceback (most recent call last)",
      "\u001b[0;32m<ipython-input-12-08175ca8f1c6>\u001b[0m in \u001b[0;36m<module>\u001b[0;34m\u001b[0m\n\u001b[0;32m----> 1\u001b[0;31m \u001b[0mmodel\u001b[0m\u001b[0;34m.\u001b[0m\u001b[0msave_model\u001b[0m\u001b[0;34m(\u001b[0m\u001b[0;34m'/kaggle/output/model.txt'\u001b[0m\u001b[0;34m)\u001b[0m\u001b[0;34m\u001b[0m\u001b[0;34m\u001b[0m\u001b[0m\n\u001b[0m",
      "\u001b[0;32m/opt/conda/lib/python3.7/site-packages/lightgbm/basic.py\u001b[0m in \u001b[0;36msave_model\u001b[0;34m(self, filename, num_iteration, start_iteration)\u001b[0m\n\u001b[1;32m   2214\u001b[0m             \u001b[0mctypes\u001b[0m\u001b[0;34m.\u001b[0m\u001b[0mc_int\u001b[0m\u001b[0;34m(\u001b[0m\u001b[0mnum_iteration\u001b[0m\u001b[0;34m)\u001b[0m\u001b[0;34m,\u001b[0m\u001b[0;34m\u001b[0m\u001b[0;34m\u001b[0m\u001b[0m\n\u001b[1;32m   2215\u001b[0m             c_str(filename)))\n\u001b[0;32m-> 2216\u001b[0;31m         \u001b[0m_dump_pandas_categorical\u001b[0m\u001b[0;34m(\u001b[0m\u001b[0mself\u001b[0m\u001b[0;34m.\u001b[0m\u001b[0mpandas_categorical\u001b[0m\u001b[0;34m,\u001b[0m \u001b[0mfilename\u001b[0m\u001b[0;34m)\u001b[0m\u001b[0;34m\u001b[0m\u001b[0;34m\u001b[0m\u001b[0m\n\u001b[0m\u001b[1;32m   2217\u001b[0m         \u001b[0;32mreturn\u001b[0m \u001b[0mself\u001b[0m\u001b[0;34m\u001b[0m\u001b[0;34m\u001b[0m\u001b[0m\n\u001b[1;32m   2218\u001b[0m \u001b[0;34m\u001b[0m\u001b[0m\n",
      "\u001b[0;32m/opt/conda/lib/python3.7/site-packages/lightgbm/basic.py\u001b[0m in \u001b[0;36m_dump_pandas_categorical\u001b[0;34m(pandas_categorical, file_name)\u001b[0m\n\u001b[1;32m    369\u001b[0m                   + '\\n')\n\u001b[1;32m    370\u001b[0m     \u001b[0;32mif\u001b[0m \u001b[0mfile_name\u001b[0m \u001b[0;32mis\u001b[0m \u001b[0;32mnot\u001b[0m \u001b[0;32mNone\u001b[0m\u001b[0;34m:\u001b[0m\u001b[0;34m\u001b[0m\u001b[0;34m\u001b[0m\u001b[0m\n\u001b[0;32m--> 371\u001b[0;31m         \u001b[0;32mwith\u001b[0m \u001b[0mopen\u001b[0m\u001b[0;34m(\u001b[0m\u001b[0mfile_name\u001b[0m\u001b[0;34m,\u001b[0m \u001b[0;34m'a'\u001b[0m\u001b[0;34m)\u001b[0m \u001b[0;32mas\u001b[0m \u001b[0mf\u001b[0m\u001b[0;34m:\u001b[0m\u001b[0;34m\u001b[0m\u001b[0;34m\u001b[0m\u001b[0m\n\u001b[0m\u001b[1;32m    372\u001b[0m             \u001b[0mf\u001b[0m\u001b[0;34m.\u001b[0m\u001b[0mwrite\u001b[0m\u001b[0;34m(\u001b[0m\u001b[0mpandas_str\u001b[0m\u001b[0;34m)\u001b[0m\u001b[0;34m\u001b[0m\u001b[0;34m\u001b[0m\u001b[0m\n\u001b[1;32m    373\u001b[0m     \u001b[0;32mreturn\u001b[0m \u001b[0mpandas_str\u001b[0m\u001b[0;34m\u001b[0m\u001b[0;34m\u001b[0m\u001b[0m\n",
      "\u001b[0;31mFileNotFoundError\u001b[0m: [Errno 2] No such file or directory: '/kaggle/output/model.txt'"
     ]
    }
   ],
   "source": [
    "model.save_model('/kaggle/output/model.txt')"
   ]
  },
  {
   "cell_type": "markdown",
   "metadata": {
    "papermill": {
     "duration": 0.024581,
     "end_time": "2020-11-15T06:36:13.382960",
     "exception": false,
     "start_time": "2020-11-15T06:36:13.358379",
     "status": "completed"
    },
    "tags": []
   },
   "source": [
    "# Inference"
   ]
  },
  {
   "cell_type": "code",
   "execution_count": 13,
   "metadata": {
    "execution": {
     "iopub.execute_input": "2020-11-15T06:36:13.439922Z",
     "iopub.status.busy": "2020-11-15T06:36:13.438966Z",
     "iopub.status.idle": "2020-11-15T06:36:13.453024Z",
     "shell.execute_reply": "2020-11-15T06:36:13.452181Z"
    },
    "papermill": {
     "duration": 0.045095,
     "end_time": "2020-11-15T06:36:13.453158",
     "exception": false,
     "start_time": "2020-11-15T06:36:13.408063",
     "status": "completed"
    },
    "tags": []
   },
   "outputs": [],
   "source": [
    "import riiideducation\n",
    "env = riiideducation.make_env()\n",
    "iter_test = env.iter_test()\n",
    "set_predict = env.predict"
   ]
  },
  {
   "cell_type": "code",
   "execution_count": 14,
   "metadata": {
    "execution": {
     "iopub.execute_input": "2020-11-15T06:36:13.519058Z",
     "iopub.status.busy": "2020-11-15T06:36:13.518224Z",
     "iopub.status.idle": "2020-11-15T06:36:13.681194Z",
     "shell.execute_reply": "2020-11-15T06:36:13.681981Z"
    },
    "papermill": {
     "duration": 0.204087,
     "end_time": "2020-11-15T06:36:13.682182",
     "exception": false,
     "start_time": "2020-11-15T06:36:13.478095",
     "status": "completed"
    },
    "tags": []
   },
   "outputs": [],
   "source": [
    "previous_test_df = None\n",
    "for (test_df, sample_prediction_df) in iter_test:\n",
    "    if previous_test_df is not None:\n",
    "        previous_test_df[target] = eval(test_df[\"prior_group_answers_correct\"].iloc[0])\n",
    "        update_user_features(previous_test_df, answer_user_sum_dict, answer_user_count_dict)\n",
    "    previous_test_df = test_df.copy()\n",
    "    test_df = test_df[test_df['content_type_id'] == 0].reset_index(drop=True)\n",
    "    test_df = add_user_features_ignore_update(test_df, answer_user_sum_dict, answer_user_count_dict)\n",
    "    test_df = test_df.merge(content_agg, on='content_id',  how=\"left\")\n",
    "    test_df = test_df.merge(questions_df, left_on='content_id', right_on='question_id', how='left')\n",
    "    test_df['prior_question_had_explanation'] = test_df.prior_question_had_explanation.fillna(False).astype('int8')\n",
    "    test_df.prior_question_elapsed_time.fillna(prior_question_elapsed_time_mean, inplace=True)    \n",
    "    test_df[target] = model.predict(test_df[Features])\n",
    "    set_predict(test_df[['row_id', target]])"
   ]
  },
  {
   "cell_type": "code",
   "execution_count": null,
   "metadata": {
    "papermill": {
     "duration": 0.029183,
     "end_time": "2020-11-15T06:36:13.740904",
     "exception": false,
     "start_time": "2020-11-15T06:36:13.711721",
     "status": "completed"
    },
    "tags": []
   },
   "outputs": [],
   "source": []
  }
 ],
 "metadata": {
  "kernelspec": {
   "display_name": "Python 3",
   "language": "python",
   "name": "python3"
  },
  "language_info": {
   "codemirror_mode": {
    "name": "ipython",
    "version": 3
   },
   "file_extension": ".py",
   "mimetype": "text/x-python",
   "name": "python",
   "nbconvert_exporter": "python",
   "pygments_lexer": "ipython3",
   "version": "3.7.6"
  },
  "papermill": {
   "duration": 9527.992657,
   "end_time": "2020-11-15T06:36:13.884354",
   "environment_variables": {},
   "exception": null,
   "input_path": "__notebook__.ipynb",
   "output_path": "__notebook__.ipynb",
   "parameters": {},
   "start_time": "2020-11-15T03:57:25.891697",
   "version": "2.1.0"
  },
  "widgets": {
   "application/vnd.jupyter.widget-state+json": {
    "state": {
     "33f4c11065984a93bbf78cc074fff2c9": {
      "model_module": "@jupyter-widgets/controls",
      "model_module_version": "1.5.0",
      "model_name": "DescriptionStyleModel",
      "state": {
       "_model_module": "@jupyter-widgets/controls",
       "_model_module_version": "1.5.0",
       "_model_name": "DescriptionStyleModel",
       "_view_count": null,
       "_view_module": "@jupyter-widgets/base",
       "_view_module_version": "1.2.0",
       "_view_name": "StyleView",
       "description_width": ""
      }
     },
     "391ac43a264540efa30ae3ed79344eac": {
      "model_module": "@jupyter-widgets/base",
      "model_module_version": "1.2.0",
      "model_name": "LayoutModel",
      "state": {
       "_model_module": "@jupyter-widgets/base",
       "_model_module_version": "1.2.0",
       "_model_name": "LayoutModel",
       "_view_count": null,
       "_view_module": "@jupyter-widgets/base",
       "_view_module_version": "1.2.0",
       "_view_name": "LayoutView",
       "align_content": null,
       "align_items": null,
       "align_self": null,
       "border": null,
       "bottom": null,
       "display": null,
       "flex": null,
       "flex_flow": null,
       "grid_area": null,
       "grid_auto_columns": null,
       "grid_auto_flow": null,
       "grid_auto_rows": null,
       "grid_column": null,
       "grid_gap": null,
       "grid_row": null,
       "grid_template_areas": null,
       "grid_template_columns": null,
       "grid_template_rows": null,
       "height": null,
       "justify_content": null,
       "justify_items": null,
       "left": null,
       "margin": null,
       "max_height": null,
       "max_width": null,
       "min_height": null,
       "min_width": null,
       "object_fit": null,
       "object_position": null,
       "order": null,
       "overflow": null,
       "overflow_x": null,
       "overflow_y": null,
       "padding": null,
       "right": null,
       "top": null,
       "visibility": null,
       "width": null
      }
     },
     "482572943f3a4c3585115ea381f971f1": {
      "model_module": "@jupyter-widgets/base",
      "model_module_version": "1.2.0",
      "model_name": "LayoutModel",
      "state": {
       "_model_module": "@jupyter-widgets/base",
       "_model_module_version": "1.2.0",
       "_model_name": "LayoutModel",
       "_view_count": null,
       "_view_module": "@jupyter-widgets/base",
       "_view_module_version": "1.2.0",
       "_view_name": "LayoutView",
       "align_content": null,
       "align_items": null,
       "align_self": null,
       "border": null,
       "bottom": null,
       "display": null,
       "flex": null,
       "flex_flow": null,
       "grid_area": null,
       "grid_auto_columns": null,
       "grid_auto_flow": null,
       "grid_auto_rows": null,
       "grid_column": null,
       "grid_gap": null,
       "grid_row": null,
       "grid_template_areas": null,
       "grid_template_columns": null,
       "grid_template_rows": null,
       "height": null,
       "justify_content": null,
       "justify_items": null,
       "left": null,
       "margin": null,
       "max_height": null,
       "max_width": null,
       "min_height": null,
       "min_width": null,
       "object_fit": null,
       "object_position": null,
       "order": null,
       "overflow": null,
       "overflow_x": null,
       "overflow_y": null,
       "padding": null,
       "right": null,
       "top": null,
       "visibility": null,
       "width": null
      }
     },
     "49ef352a0bb14f72876a5b965774ff0d": {
      "model_module": "@jupyter-widgets/controls",
      "model_module_version": "1.5.0",
      "model_name": "ProgressStyleModel",
      "state": {
       "_model_module": "@jupyter-widgets/controls",
       "_model_module_version": "1.5.0",
       "_model_name": "ProgressStyleModel",
       "_view_count": null,
       "_view_module": "@jupyter-widgets/base",
       "_view_module_version": "1.2.0",
       "_view_name": "StyleView",
       "bar_color": null,
       "description_width": "initial"
      }
     },
     "4d973f61655f41139ed5243503c5c8fc": {
      "model_module": "@jupyter-widgets/controls",
      "model_module_version": "1.5.0",
      "model_name": "HTMLModel",
      "state": {
       "_dom_classes": [],
       "_model_module": "@jupyter-widgets/controls",
       "_model_module_version": "1.5.0",
       "_model_name": "HTMLModel",
       "_view_count": null,
       "_view_module": "@jupyter-widgets/controls",
       "_view_module_version": "1.5.0",
       "_view_name": "HTMLView",
       "description": "",
       "description_tooltip": null,
       "layout": "IPY_MODEL_901613b45f55454894632bc861277e79",
       "placeholder": "​",
       "style": "IPY_MODEL_33f4c11065984a93bbf78cc074fff2c9",
       "value": " 29404440/29404440 [02:47&lt;00:00, 175400.10it/s]"
      }
     },
     "4fc2567d784541c7aa912ff853dfaddc": {
      "model_module": "@jupyter-widgets/controls",
      "model_module_version": "1.5.0",
      "model_name": "HTMLModel",
      "state": {
       "_dom_classes": [],
       "_model_module": "@jupyter-widgets/controls",
       "_model_module_version": "1.5.0",
       "_model_name": "HTMLModel",
       "_view_count": null,
       "_view_module": "@jupyter-widgets/controls",
       "_view_module_version": "1.5.0",
       "_view_name": "HTMLView",
       "description": "",
       "description_tooltip": null,
       "layout": "IPY_MODEL_391ac43a264540efa30ae3ed79344eac",
       "placeholder": "​",
       "style": "IPY_MODEL_ccffd29b2b584c28ab34ec51f434de11",
       "value": " 2453886/2453886 [00:12&lt;00:00, 199531.32it/s]"
      }
     },
     "5ed7dc621f004f7981f74ab097c705a4": {
      "model_module": "@jupyter-widgets/controls",
      "model_module_version": "1.5.0",
      "model_name": "HBoxModel",
      "state": {
       "_dom_classes": [],
       "_model_module": "@jupyter-widgets/controls",
       "_model_module_version": "1.5.0",
       "_model_name": "HBoxModel",
       "_view_count": null,
       "_view_module": "@jupyter-widgets/controls",
       "_view_module_version": "1.5.0",
       "_view_name": "HBoxView",
       "box_style": "",
       "children": [
        "IPY_MODEL_958f371f50f446e0b461a9e586877ef2",
        "IPY_MODEL_4fc2567d784541c7aa912ff853dfaddc"
       ],
       "layout": "IPY_MODEL_e42bc9ef263c4b7a955b599b08fa6da2"
      }
     },
     "776ff7cf0e9c4b0cac4e7660f0e24d71": {
      "model_module": "@jupyter-widgets/controls",
      "model_module_version": "1.5.0",
      "model_name": "ProgressStyleModel",
      "state": {
       "_model_module": "@jupyter-widgets/controls",
       "_model_module_version": "1.5.0",
       "_model_name": "ProgressStyleModel",
       "_view_count": null,
       "_view_module": "@jupyter-widgets/base",
       "_view_module_version": "1.2.0",
       "_view_name": "StyleView",
       "bar_color": null,
       "description_width": "initial"
      }
     },
     "901613b45f55454894632bc861277e79": {
      "model_module": "@jupyter-widgets/base",
      "model_module_version": "1.2.0",
      "model_name": "LayoutModel",
      "state": {
       "_model_module": "@jupyter-widgets/base",
       "_model_module_version": "1.2.0",
       "_model_name": "LayoutModel",
       "_view_count": null,
       "_view_module": "@jupyter-widgets/base",
       "_view_module_version": "1.2.0",
       "_view_name": "LayoutView",
       "align_content": null,
       "align_items": null,
       "align_self": null,
       "border": null,
       "bottom": null,
       "display": null,
       "flex": null,
       "flex_flow": null,
       "grid_area": null,
       "grid_auto_columns": null,
       "grid_auto_flow": null,
       "grid_auto_rows": null,
       "grid_column": null,
       "grid_gap": null,
       "grid_row": null,
       "grid_template_areas": null,
       "grid_template_columns": null,
       "grid_template_rows": null,
       "height": null,
       "justify_content": null,
       "justify_items": null,
       "left": null,
       "margin": null,
       "max_height": null,
       "max_width": null,
       "min_height": null,
       "min_width": null,
       "object_fit": null,
       "object_position": null,
       "order": null,
       "overflow": null,
       "overflow_x": null,
       "overflow_y": null,
       "padding": null,
       "right": null,
       "top": null,
       "visibility": null,
       "width": null
      }
     },
     "958f371f50f446e0b461a9e586877ef2": {
      "model_module": "@jupyter-widgets/controls",
      "model_module_version": "1.5.0",
      "model_name": "FloatProgressModel",
      "state": {
       "_dom_classes": [],
       "_model_module": "@jupyter-widgets/controls",
       "_model_module_version": "1.5.0",
       "_model_name": "FloatProgressModel",
       "_view_count": null,
       "_view_module": "@jupyter-widgets/controls",
       "_view_module_version": "1.5.0",
       "_view_name": "ProgressView",
       "bar_style": "success",
       "description": "100%",
       "description_tooltip": null,
       "layout": "IPY_MODEL_9730722873e44a82b29fd4111b4b7a57",
       "max": 2453886.0,
       "min": 0.0,
       "orientation": "horizontal",
       "style": "IPY_MODEL_776ff7cf0e9c4b0cac4e7660f0e24d71",
       "value": 2453886.0
      }
     },
     "9730722873e44a82b29fd4111b4b7a57": {
      "model_module": "@jupyter-widgets/base",
      "model_module_version": "1.2.0",
      "model_name": "LayoutModel",
      "state": {
       "_model_module": "@jupyter-widgets/base",
       "_model_module_version": "1.2.0",
       "_model_name": "LayoutModel",
       "_view_count": null,
       "_view_module": "@jupyter-widgets/base",
       "_view_module_version": "1.2.0",
       "_view_name": "LayoutView",
       "align_content": null,
       "align_items": null,
       "align_self": null,
       "border": null,
       "bottom": null,
       "display": null,
       "flex": null,
       "flex_flow": null,
       "grid_area": null,
       "grid_auto_columns": null,
       "grid_auto_flow": null,
       "grid_auto_rows": null,
       "grid_column": null,
       "grid_gap": null,
       "grid_row": null,
       "grid_template_areas": null,
       "grid_template_columns": null,
       "grid_template_rows": null,
       "height": null,
       "justify_content": null,
       "justify_items": null,
       "left": null,
       "margin": null,
       "max_height": null,
       "max_width": null,
       "min_height": null,
       "min_width": null,
       "object_fit": null,
       "object_position": null,
       "order": null,
       "overflow": null,
       "overflow_x": null,
       "overflow_y": null,
       "padding": null,
       "right": null,
       "top": null,
       "visibility": null,
       "width": null
      }
     },
     "a4f9b76bdcf644998645d4bf80598924": {
      "model_module": "@jupyter-widgets/base",
      "model_module_version": "1.2.0",
      "model_name": "LayoutModel",
      "state": {
       "_model_module": "@jupyter-widgets/base",
       "_model_module_version": "1.2.0",
       "_model_name": "LayoutModel",
       "_view_count": null,
       "_view_module": "@jupyter-widgets/base",
       "_view_module_version": "1.2.0",
       "_view_name": "LayoutView",
       "align_content": null,
       "align_items": null,
       "align_self": null,
       "border": null,
       "bottom": null,
       "display": null,
       "flex": null,
       "flex_flow": null,
       "grid_area": null,
       "grid_auto_columns": null,
       "grid_auto_flow": null,
       "grid_auto_rows": null,
       "grid_column": null,
       "grid_gap": null,
       "grid_row": null,
       "grid_template_areas": null,
       "grid_template_columns": null,
       "grid_template_rows": null,
       "height": null,
       "justify_content": null,
       "justify_items": null,
       "left": null,
       "margin": null,
       "max_height": null,
       "max_width": null,
       "min_height": null,
       "min_width": null,
       "object_fit": null,
       "object_position": null,
       "order": null,
       "overflow": null,
       "overflow_x": null,
       "overflow_y": null,
       "padding": null,
       "right": null,
       "top": null,
       "visibility": null,
       "width": null
      }
     },
     "ccffd29b2b584c28ab34ec51f434de11": {
      "model_module": "@jupyter-widgets/controls",
      "model_module_version": "1.5.0",
      "model_name": "DescriptionStyleModel",
      "state": {
       "_model_module": "@jupyter-widgets/controls",
       "_model_module_version": "1.5.0",
       "_model_name": "DescriptionStyleModel",
       "_view_count": null,
       "_view_module": "@jupyter-widgets/base",
       "_view_module_version": "1.2.0",
       "_view_name": "StyleView",
       "description_width": ""
      }
     },
     "e42bc9ef263c4b7a955b599b08fa6da2": {
      "model_module": "@jupyter-widgets/base",
      "model_module_version": "1.2.0",
      "model_name": "LayoutModel",
      "state": {
       "_model_module": "@jupyter-widgets/base",
       "_model_module_version": "1.2.0",
       "_model_name": "LayoutModel",
       "_view_count": null,
       "_view_module": "@jupyter-widgets/base",
       "_view_module_version": "1.2.0",
       "_view_name": "LayoutView",
       "align_content": null,
       "align_items": null,
       "align_self": null,
       "border": null,
       "bottom": null,
       "display": null,
       "flex": null,
       "flex_flow": null,
       "grid_area": null,
       "grid_auto_columns": null,
       "grid_auto_flow": null,
       "grid_auto_rows": null,
       "grid_column": null,
       "grid_gap": null,
       "grid_row": null,
       "grid_template_areas": null,
       "grid_template_columns": null,
       "grid_template_rows": null,
       "height": null,
       "justify_content": null,
       "justify_items": null,
       "left": null,
       "margin": null,
       "max_height": null,
       "max_width": null,
       "min_height": null,
       "min_width": null,
       "object_fit": null,
       "object_position": null,
       "order": null,
       "overflow": null,
       "overflow_x": null,
       "overflow_y": null,
       "padding": null,
       "right": null,
       "top": null,
       "visibility": null,
       "width": null
      }
     },
     "f2b995f89b4042978328abb39de61079": {
      "model_module": "@jupyter-widgets/controls",
      "model_module_version": "1.5.0",
      "model_name": "HBoxModel",
      "state": {
       "_dom_classes": [],
       "_model_module": "@jupyter-widgets/controls",
       "_model_module_version": "1.5.0",
       "_model_name": "HBoxModel",
       "_view_count": null,
       "_view_module": "@jupyter-widgets/controls",
       "_view_module_version": "1.5.0",
       "_view_name": "HBoxView",
       "box_style": "",
       "children": [
        "IPY_MODEL_f50971f4ab4c4d7aa6acfe53f072f403",
        "IPY_MODEL_4d973f61655f41139ed5243503c5c8fc"
       ],
       "layout": "IPY_MODEL_a4f9b76bdcf644998645d4bf80598924"
      }
     },
     "f50971f4ab4c4d7aa6acfe53f072f403": {
      "model_module": "@jupyter-widgets/controls",
      "model_module_version": "1.5.0",
      "model_name": "FloatProgressModel",
      "state": {
       "_dom_classes": [],
       "_model_module": "@jupyter-widgets/controls",
       "_model_module_version": "1.5.0",
       "_model_name": "FloatProgressModel",
       "_view_count": null,
       "_view_module": "@jupyter-widgets/controls",
       "_view_module_version": "1.5.0",
       "_view_name": "ProgressView",
       "bar_style": "success",
       "description": "100%",
       "description_tooltip": null,
       "layout": "IPY_MODEL_482572943f3a4c3585115ea381f971f1",
       "max": 29404440.0,
       "min": 0.0,
       "orientation": "horizontal",
       "style": "IPY_MODEL_49ef352a0bb14f72876a5b965774ff0d",
       "value": 29404440.0
      }
     }
    },
    "version_major": 2,
    "version_minor": 0
   }
  }
 },
 "nbformat": 4,
 "nbformat_minor": 4
}
